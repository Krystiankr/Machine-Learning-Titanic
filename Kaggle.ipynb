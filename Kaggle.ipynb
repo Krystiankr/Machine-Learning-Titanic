{
 "cells": [
  {
   "cell_type": "markdown",
   "id": "8a58ae90-2b4b-477d-80ba-c210aef0e325",
   "metadata": {},
   "source": [
    "## Introduction\n",
    "\n",
    "I am pleased to introduce to you my **first** data processing using basic machine learning methods.\n",
    "\n",
    "Our task is to use machine learning to create a model that predicts which passengers survived the Titanic shipwreck.\n",
    "\n",
    "## Data gathering"
   ]
  },
  {
   "cell_type": "code",
   "execution_count": 340,
   "id": "9059a3d4-6341-4513-9133-f0c3b4e3c2eb",
   "metadata": {},
   "outputs": [
    {
     "data": {
      "text/html": [
       "<div>\n",
       "<style scoped>\n",
       "    .dataframe tbody tr th:only-of-type {\n",
       "        vertical-align: middle;\n",
       "    }\n",
       "\n",
       "    .dataframe tbody tr th {\n",
       "        vertical-align: top;\n",
       "    }\n",
       "\n",
       "    .dataframe thead th {\n",
       "        text-align: right;\n",
       "    }\n",
       "</style>\n",
       "<table border=\"1\" class=\"dataframe\">\n",
       "  <thead>\n",
       "    <tr style=\"text-align: right;\">\n",
       "      <th></th>\n",
       "      <th>PassengerId</th>\n",
       "      <th>Survived</th>\n",
       "      <th>Pclass</th>\n",
       "      <th>Name</th>\n",
       "      <th>Sex</th>\n",
       "      <th>Age</th>\n",
       "      <th>SibSp</th>\n",
       "      <th>Parch</th>\n",
       "      <th>Ticket</th>\n",
       "      <th>Fare</th>\n",
       "      <th>Cabin</th>\n",
       "      <th>Embarked</th>\n",
       "    </tr>\n",
       "  </thead>\n",
       "  <tbody>\n",
       "    <tr>\n",
       "      <th>0</th>\n",
       "      <td>1</td>\n",
       "      <td>0</td>\n",
       "      <td>3</td>\n",
       "      <td>Braund, Mr. Owen Harris</td>\n",
       "      <td>male</td>\n",
       "      <td>22.0</td>\n",
       "      <td>1</td>\n",
       "      <td>0</td>\n",
       "      <td>A/5 21171</td>\n",
       "      <td>7.2500</td>\n",
       "      <td>NaN</td>\n",
       "      <td>S</td>\n",
       "    </tr>\n",
       "    <tr>\n",
       "      <th>1</th>\n",
       "      <td>2</td>\n",
       "      <td>1</td>\n",
       "      <td>1</td>\n",
       "      <td>Cumings, Mrs. John Bradley (Florence Briggs Th...</td>\n",
       "      <td>female</td>\n",
       "      <td>38.0</td>\n",
       "      <td>1</td>\n",
       "      <td>0</td>\n",
       "      <td>PC 17599</td>\n",
       "      <td>71.2833</td>\n",
       "      <td>C85</td>\n",
       "      <td>C</td>\n",
       "    </tr>\n",
       "    <tr>\n",
       "      <th>2</th>\n",
       "      <td>3</td>\n",
       "      <td>1</td>\n",
       "      <td>3</td>\n",
       "      <td>Heikkinen, Miss. Laina</td>\n",
       "      <td>female</td>\n",
       "      <td>26.0</td>\n",
       "      <td>0</td>\n",
       "      <td>0</td>\n",
       "      <td>STON/O2. 3101282</td>\n",
       "      <td>7.9250</td>\n",
       "      <td>NaN</td>\n",
       "      <td>S</td>\n",
       "    </tr>\n",
       "    <tr>\n",
       "      <th>3</th>\n",
       "      <td>4</td>\n",
       "      <td>1</td>\n",
       "      <td>1</td>\n",
       "      <td>Futrelle, Mrs. Jacques Heath (Lily May Peel)</td>\n",
       "      <td>female</td>\n",
       "      <td>35.0</td>\n",
       "      <td>1</td>\n",
       "      <td>0</td>\n",
       "      <td>113803</td>\n",
       "      <td>53.1000</td>\n",
       "      <td>C123</td>\n",
       "      <td>S</td>\n",
       "    </tr>\n",
       "    <tr>\n",
       "      <th>4</th>\n",
       "      <td>5</td>\n",
       "      <td>0</td>\n",
       "      <td>3</td>\n",
       "      <td>Allen, Mr. William Henry</td>\n",
       "      <td>male</td>\n",
       "      <td>35.0</td>\n",
       "      <td>0</td>\n",
       "      <td>0</td>\n",
       "      <td>373450</td>\n",
       "      <td>8.0500</td>\n",
       "      <td>NaN</td>\n",
       "      <td>S</td>\n",
       "    </tr>\n",
       "  </tbody>\n",
       "</table>\n",
       "</div>"
      ],
      "text/plain": [
       "   PassengerId  Survived  Pclass  \\\n",
       "0            1         0       3   \n",
       "1            2         1       1   \n",
       "2            3         1       3   \n",
       "3            4         1       1   \n",
       "4            5         0       3   \n",
       "\n",
       "                                                Name     Sex   Age  SibSp  \\\n",
       "0                            Braund, Mr. Owen Harris    male  22.0      1   \n",
       "1  Cumings, Mrs. John Bradley (Florence Briggs Th...  female  38.0      1   \n",
       "2                             Heikkinen, Miss. Laina  female  26.0      0   \n",
       "3       Futrelle, Mrs. Jacques Heath (Lily May Peel)  female  35.0      1   \n",
       "4                           Allen, Mr. William Henry    male  35.0      0   \n",
       "\n",
       "   Parch            Ticket     Fare Cabin Embarked  \n",
       "0      0         A/5 21171   7.2500   NaN        S  \n",
       "1      0          PC 17599  71.2833   C85        C  \n",
       "2      0  STON/O2. 3101282   7.9250   NaN        S  \n",
       "3      0            113803  53.1000  C123        S  \n",
       "4      0            373450   8.0500   NaN        S  "
      ]
     },
     "execution_count": 340,
     "metadata": {},
     "output_type": "execute_result"
    }
   ],
   "source": [
    "import pandas as pd\n",
    "\n",
    "df = pd.read_csv('train.csv')\n",
    "df.head()"
   ]
  },
  {
   "cell_type": "code",
   "execution_count": 60,
   "id": "1c3916b5-0f4f-4dca-801a-978987c4d754",
   "metadata": {},
   "outputs": [
    {
     "data": {
      "text/plain": [
       "Index(['PassengerId', 'Survived', 'Pclass', 'Name', 'Sex', 'Age', 'SibSp',\n",
       "       'Parch', 'Ticket', 'Fare', 'Cabin', 'Embarked'],\n",
       "      dtype='object')"
      ]
     },
     "execution_count": 60,
     "metadata": {},
     "output_type": "execute_result"
    }
   ],
   "source": [
    "df.columns"
   ]
  },
  {
   "cell_type": "markdown",
   "id": "a8099b8c-fc85-4114-8443-3f1fc7a8fcd1",
   "metadata": {},
   "source": [
    "## Data clean\n",
    "\n",
    "Displaying columns that have any *null-values* and their count."
   ]
  },
  {
   "cell_type": "code",
   "execution_count": 47,
   "id": "e6c4136c-6732-4657-bc60-2c154afa23fc",
   "metadata": {},
   "outputs": [
    {
     "data": {
      "text/plain": [
       "Age         177.0\n",
       "Cabin       687.0\n",
       "Embarked      2.0\n",
       "dtype: float64"
      ]
     },
     "execution_count": 47,
     "metadata": {},
     "output_type": "execute_result"
    }
   ],
   "source": [
    "df.isna().agg(sum).apply(lambda x: x if x > 0 else None).dropna()"
   ]
  },
  {
   "cell_type": "markdown",
   "id": "956fa717-00ec-488a-813c-290da821f5e7",
   "metadata": {},
   "source": [
    "We can see that three columns have non-value values and one of them exactly **\"Cabin\"** has a significant number of them, therefore I decide to delete it."
   ]
  },
  {
   "cell_type": "code",
   "execution_count": 341,
   "id": "a4e1590d-13ad-487f-93df-3a8e92dcf520",
   "metadata": {},
   "outputs": [
    {
     "data": {
      "text/plain": [
       "Index(['PassengerId', 'Survived', 'Pclass', 'Name', 'Sex', 'Age', 'SibSp',\n",
       "       'Parch', 'Ticket', 'Fare', 'Embarked'],\n",
       "      dtype='object')"
      ]
     },
     "execution_count": 341,
     "metadata": {},
     "output_type": "execute_result"
    }
   ],
   "source": [
    "df = df.drop(['Cabin'], axis=1)\n",
    "df.columns"
   ]
  },
  {
   "cell_type": "markdown",
   "id": "509030f2-23fc-4eda-9c9b-567a9a430efc",
   "metadata": {},
   "source": [
    "As we can see, the **\"Cabin\"** column has disappeared."
   ]
  },
  {
   "cell_type": "markdown",
   "id": "4d3c2cce-3143-4eb6-97fc-81648c219537",
   "metadata": {},
   "source": [
    "Let's also remove two rows from the **\"Embraked\"** column"
   ]
  },
  {
   "cell_type": "code",
   "execution_count": 342,
   "id": "02e6c644-36dc-44f3-aa10-0314ed12eac8",
   "metadata": {},
   "outputs": [
    {
     "data": {
      "text/plain": [
       "0"
      ]
     },
     "execution_count": 342,
     "metadata": {},
     "output_type": "execute_result"
    }
   ],
   "source": [
    "df = df.dropna(subset=['Embarked'])\n",
    "df['Embarked'].isnull().agg(sum)"
   ]
  },
  {
   "cell_type": "markdown",
   "id": "c70e080b-0b88-47b7-b3d6-d3a44e7c09e1",
   "metadata": {},
   "source": [
    "Let's get more information from our columns.\n",
    "Look for **unique items** for each column."
   ]
  },
  {
   "cell_type": "code",
   "execution_count": 139,
   "id": "04c86af4-1880-493b-a711-3316d98608da",
   "metadata": {},
   "outputs": [
    {
     "data": {
      "text/html": [
       "<div>\n",
       "<style scoped>\n",
       "    .dataframe tbody tr th:only-of-type {\n",
       "        vertical-align: middle;\n",
       "    }\n",
       "\n",
       "    .dataframe tbody tr th {\n",
       "        vertical-align: top;\n",
       "    }\n",
       "\n",
       "    .dataframe thead th {\n",
       "        text-align: right;\n",
       "    }\n",
       "</style>\n",
       "<table border=\"1\" class=\"dataframe\">\n",
       "  <thead>\n",
       "    <tr style=\"text-align: right;\">\n",
       "      <th></th>\n",
       "      <th>unique</th>\n",
       "      <th>elements</th>\n",
       "    </tr>\n",
       "  </thead>\n",
       "  <tbody>\n",
       "    <tr>\n",
       "      <th>PassengerId</th>\n",
       "      <td>889</td>\n",
       "      <td>[1, 2, 3, 4, 5, 6, 7, 8, 9, 10, 11, 12, 13, 14...</td>\n",
       "    </tr>\n",
       "    <tr>\n",
       "      <th>Survived</th>\n",
       "      <td>2</td>\n",
       "      <td>[0, 1]</td>\n",
       "    </tr>\n",
       "    <tr>\n",
       "      <th>Pclass</th>\n",
       "      <td>3</td>\n",
       "      <td>[3, 1, 2]</td>\n",
       "    </tr>\n",
       "    <tr>\n",
       "      <th>Name</th>\n",
       "      <td>889</td>\n",
       "      <td>[Braund, Mr. Owen Harris, Cumings, Mrs. John B...</td>\n",
       "    </tr>\n",
       "    <tr>\n",
       "      <th>Sex</th>\n",
       "      <td>2</td>\n",
       "      <td>[male, female]</td>\n",
       "    </tr>\n",
       "    <tr>\n",
       "      <th>Age</th>\n",
       "      <td>89</td>\n",
       "      <td>[22.0, 38.0, 26.0, 35.0, nan, 54.0, 2.0, 27.0,...</td>\n",
       "    </tr>\n",
       "    <tr>\n",
       "      <th>SibSp</th>\n",
       "      <td>7</td>\n",
       "      <td>[1, 0, 3, 4, 2, 5, 8]</td>\n",
       "    </tr>\n",
       "    <tr>\n",
       "      <th>Parch</th>\n",
       "      <td>7</td>\n",
       "      <td>[0, 1, 2, 5, 3, 4, 6]</td>\n",
       "    </tr>\n",
       "    <tr>\n",
       "      <th>Ticket</th>\n",
       "      <td>680</td>\n",
       "      <td>[A/5 21171, PC 17599, STON/O2. 3101282, 113803...</td>\n",
       "    </tr>\n",
       "    <tr>\n",
       "      <th>Fare</th>\n",
       "      <td>247</td>\n",
       "      <td>[7.25, 71.2833, 7.925, 53.1, 8.05, 8.4583, 51....</td>\n",
       "    </tr>\n",
       "    <tr>\n",
       "      <th>Embarked</th>\n",
       "      <td>3</td>\n",
       "      <td>[S, C, Q]</td>\n",
       "    </tr>\n",
       "  </tbody>\n",
       "</table>\n",
       "</div>"
      ],
      "text/plain": [
       "            unique                                           elements\n",
       "PassengerId    889  [1, 2, 3, 4, 5, 6, 7, 8, 9, 10, 11, 12, 13, 14...\n",
       "Survived         2                                             [0, 1]\n",
       "Pclass           3                                          [3, 1, 2]\n",
       "Name           889  [Braund, Mr. Owen Harris, Cumings, Mrs. John B...\n",
       "Sex              2                                     [male, female]\n",
       "Age             89  [22.0, 38.0, 26.0, 35.0, nan, 54.0, 2.0, 27.0,...\n",
       "SibSp            7                              [1, 0, 3, 4, 2, 5, 8]\n",
       "Parch            7                              [0, 1, 2, 5, 3, 4, 6]\n",
       "Ticket         680  [A/5 21171, PC 17599, STON/O2. 3101282, 113803...\n",
       "Fare           247  [7.25, 71.2833, 7.925, 53.1, 8.05, 8.4583, 51....\n",
       "Embarked         3                                          [S, C, Q]"
      ]
     },
     "execution_count": 139,
     "metadata": {},
     "output_type": "execute_result"
    }
   ],
   "source": [
    "df.apply(lambda x: (len(x.unique()),x.unique())).T.rename(columns={0:\"unique\", 1:\"elements\"})"
   ]
  },
  {
   "cell_type": "markdown",
   "id": "b38a7a9f-f6b9-4356-ba64-1c751a68b432",
   "metadata": {},
   "source": [
    "Now, I can collect some information such as:\n",
    "The **\"Pclass\"** column has the values 1, 2, 3\n",
    "**\"Embarked\"** column similar to \"S\", \"C\", \"Q\"\n",
    "I will drop the **\"Name\"** and **\"Ticket\"** columns because they contain a lot of information that I won't use."
   ]
  },
  {
   "cell_type": "code",
   "execution_count": 343,
   "id": "f8fd4e4a-10f3-416a-a360-20cc972652cb",
   "metadata": {},
   "outputs": [
    {
     "data": {
      "text/plain": [
       "Index(['PassengerId', 'Survived', 'Pclass', 'Sex', 'Age', 'SibSp', 'Parch',\n",
       "       'Fare', 'Embarked'],\n",
       "      dtype='object')"
      ]
     },
     "execution_count": 343,
     "metadata": {},
     "output_type": "execute_result"
    }
   ],
   "source": [
    "df = df.drop(['Ticket', 'Name'], axis=1)\n",
    "df.columns"
   ]
  },
  {
   "cell_type": "markdown",
   "id": "f5041dcc-8087-4eac-bf24-a64e402aa49e",
   "metadata": {},
   "source": [
    "## Exploring"
   ]
  },
  {
   "cell_type": "code",
   "execution_count": 143,
   "id": "109c77b6-9cc7-4d1d-a26e-4561bfccdd9f",
   "metadata": {},
   "outputs": [
    {
     "data": {
      "text/html": [
       "<div>\n",
       "<style scoped>\n",
       "    .dataframe tbody tr th:only-of-type {\n",
       "        vertical-align: middle;\n",
       "    }\n",
       "\n",
       "    .dataframe tbody tr th {\n",
       "        vertical-align: top;\n",
       "    }\n",
       "\n",
       "    .dataframe thead th {\n",
       "        text-align: right;\n",
       "    }\n",
       "</style>\n",
       "<table border=\"1\" class=\"dataframe\">\n",
       "  <thead>\n",
       "    <tr style=\"text-align: right;\">\n",
       "      <th></th>\n",
       "      <th>PassengerId</th>\n",
       "      <th>Survived</th>\n",
       "      <th>Pclass</th>\n",
       "      <th>Age</th>\n",
       "      <th>SibSp</th>\n",
       "      <th>Parch</th>\n",
       "      <th>Fare</th>\n",
       "    </tr>\n",
       "  </thead>\n",
       "  <tbody>\n",
       "    <tr>\n",
       "      <th>count</th>\n",
       "      <td>889.000000</td>\n",
       "      <td>889.000000</td>\n",
       "      <td>889.000000</td>\n",
       "      <td>712.000000</td>\n",
       "      <td>889.000000</td>\n",
       "      <td>889.000000</td>\n",
       "      <td>889.000000</td>\n",
       "    </tr>\n",
       "    <tr>\n",
       "      <th>mean</th>\n",
       "      <td>446.000000</td>\n",
       "      <td>0.382452</td>\n",
       "      <td>2.311586</td>\n",
       "      <td>29.642093</td>\n",
       "      <td>0.524184</td>\n",
       "      <td>0.382452</td>\n",
       "      <td>32.096681</td>\n",
       "    </tr>\n",
       "    <tr>\n",
       "      <th>std</th>\n",
       "      <td>256.998173</td>\n",
       "      <td>0.486260</td>\n",
       "      <td>0.834700</td>\n",
       "      <td>14.492933</td>\n",
       "      <td>1.103705</td>\n",
       "      <td>0.806761</td>\n",
       "      <td>49.697504</td>\n",
       "    </tr>\n",
       "    <tr>\n",
       "      <th>min</th>\n",
       "      <td>1.000000</td>\n",
       "      <td>0.000000</td>\n",
       "      <td>1.000000</td>\n",
       "      <td>0.420000</td>\n",
       "      <td>0.000000</td>\n",
       "      <td>0.000000</td>\n",
       "      <td>0.000000</td>\n",
       "    </tr>\n",
       "    <tr>\n",
       "      <th>25%</th>\n",
       "      <td>224.000000</td>\n",
       "      <td>0.000000</td>\n",
       "      <td>2.000000</td>\n",
       "      <td>20.000000</td>\n",
       "      <td>0.000000</td>\n",
       "      <td>0.000000</td>\n",
       "      <td>7.895800</td>\n",
       "    </tr>\n",
       "    <tr>\n",
       "      <th>50%</th>\n",
       "      <td>446.000000</td>\n",
       "      <td>0.000000</td>\n",
       "      <td>3.000000</td>\n",
       "      <td>28.000000</td>\n",
       "      <td>0.000000</td>\n",
       "      <td>0.000000</td>\n",
       "      <td>14.454200</td>\n",
       "    </tr>\n",
       "    <tr>\n",
       "      <th>75%</th>\n",
       "      <td>668.000000</td>\n",
       "      <td>1.000000</td>\n",
       "      <td>3.000000</td>\n",
       "      <td>38.000000</td>\n",
       "      <td>1.000000</td>\n",
       "      <td>0.000000</td>\n",
       "      <td>31.000000</td>\n",
       "    </tr>\n",
       "    <tr>\n",
       "      <th>max</th>\n",
       "      <td>891.000000</td>\n",
       "      <td>1.000000</td>\n",
       "      <td>3.000000</td>\n",
       "      <td>80.000000</td>\n",
       "      <td>8.000000</td>\n",
       "      <td>6.000000</td>\n",
       "      <td>512.329200</td>\n",
       "    </tr>\n",
       "  </tbody>\n",
       "</table>\n",
       "</div>"
      ],
      "text/plain": [
       "       PassengerId    Survived      Pclass         Age       SibSp  \\\n",
       "count   889.000000  889.000000  889.000000  712.000000  889.000000   \n",
       "mean    446.000000    0.382452    2.311586   29.642093    0.524184   \n",
       "std     256.998173    0.486260    0.834700   14.492933    1.103705   \n",
       "min       1.000000    0.000000    1.000000    0.420000    0.000000   \n",
       "25%     224.000000    0.000000    2.000000   20.000000    0.000000   \n",
       "50%     446.000000    0.000000    3.000000   28.000000    0.000000   \n",
       "75%     668.000000    1.000000    3.000000   38.000000    1.000000   \n",
       "max     891.000000    1.000000    3.000000   80.000000    8.000000   \n",
       "\n",
       "            Parch        Fare  \n",
       "count  889.000000  889.000000  \n",
       "mean     0.382452   32.096681  \n",
       "std      0.806761   49.697504  \n",
       "min      0.000000    0.000000  \n",
       "25%      0.000000    7.895800  \n",
       "50%      0.000000   14.454200  \n",
       "75%      0.000000   31.000000  \n",
       "max      6.000000  512.329200  "
      ]
     },
     "execution_count": 143,
     "metadata": {},
     "output_type": "execute_result"
    }
   ],
   "source": [
    "df.describe()"
   ]
  },
  {
   "cell_type": "markdown",
   "id": "72d24c92-e02e-4450-97b1-7d16d9ce9ab9",
   "metadata": {},
   "source": [
    "As we can see from the **\"Age\"** column, the oldest person is *80* years old, the youngest is less than a year.\n",
    "Max number of siblings / spouses is *8*.\n",
    "Max number of parents / children is *6*.\n",
    "The highest fare is *512* and the lowest is *0*."
   ]
  },
  {
   "cell_type": "markdown",
   "id": "6e5b3c3b-5300-4f4c-ad64-9c220604ad81",
   "metadata": {},
   "source": [
    "Let us now turn our attention to the degree of survivor due to the Sex division."
   ]
  },
  {
   "cell_type": "code",
   "execution_count": 158,
   "id": "c8df70c5-e763-4176-bb02-a18564231952",
   "metadata": {},
   "outputs": [
    {
     "data": {
      "image/png": "[encoded data removed]",
      "text/plain": [
       "<Figure size 432x288 with 1 Axes>"
      ]
     },
     "metadata": {
      "needs_background": "light"
     },
     "output_type": "display_data"
    }
   ],
   "source": [
    "import seaborn as sns\n",
    "\n",
    "_ = sns.barplot(x='Sex', y='Survived', data=df)"
   ]
  },
  {
   "cell_type": "markdown",
   "id": "998f2a94-0c91-409e-8d30-e631150a1b19",
   "metadata": {},
   "source": [
    "Women had a much better chance of survival(*74%*) than men(*18%*)."
   ]
  },
  {
   "cell_type": "code",
   "execution_count": 274,
   "id": "233a1b12-b3c2-44b0-8fe1-a9eca726cb72",
   "metadata": {},
   "outputs": [
    {
     "data": {
      "image/png": "[encoded data removed]",
      "text/plain": [
       "<Figure size 432x288 with 1 Axes>"
      ]
     },
     "metadata": {
      "needs_background": "light"
     },
     "output_type": "display_data"
    }
   ],
   "source": [
    "_ = sns.barplot(x='Pclass', y='Survived', data=df)"
   ]
  },
  {
   "cell_type": "markdown",
   "id": "508b0330-f2d6-4fc7-929c-b6f87792375b",
   "metadata": {},
   "source": [
    "Passengers from **first** class are *more than twice* as likely to survive than passengers from **third** class"
   ]
  },
  {
   "cell_type": "markdown",
   "id": "b233fb58-9e8c-4d7e-b506-fc5bf35a1018",
   "metadata": {},
   "source": [
    "## Correlation"
   ]
  },
  {
   "cell_type": "code",
   "execution_count": 300,
   "id": "77ce74f0-6d54-46fb-9970-07961ea2c1fb",
   "metadata": {},
   "outputs": [
    {
     "data": {
      "image/png": "[encoded data removed]",
      "text/plain": [
       "<Figure size 432x288 with 2 Axes>"
      ]
     },
     "metadata": {
      "needs_background": "light"
     },
     "output_type": "display_data"
    }
   ],
   "source": [
    "import numpy as np\n",
    "\n",
    "corr = df.corr()\n",
    "mask = np.triu(np.ones_like(corr, dtype=bool))\n",
    "cmap = sns.diverging_palette(230, 20, as_cmap=True)\n",
    "_ = sns.heatmap(corr, mask=mask, cmap=cmap, vmax=1, vmin=-1, center=0,\n",
    "            square=True, linewidths=.5, cbar_kws={\"shrink\": .5})"
   ]
  },
  {
   "cell_type": "markdown",
   "id": "0cced3a0-e7f1-470c-a937-2392270eddd7",
   "metadata": {},
   "source": [
    "Strongly correlated columns add *no value* and can spoil our interpretations."
   ]
  },
  {
   "cell_type": "code",
   "execution_count": 453,
   "id": "9d73ea7f-29fa-48ff-bd97-af66528ece44",
   "metadata": {},
   "outputs": [
    {
     "data": {
      "image/png": "[encoded data removed]",
      "text/plain": [
       "<Figure size 432x288 with 2 Axes>"
      ]
     },
     "metadata": {
      "needs_background": "light"
     },
     "output_type": "display_data"
    }
   ],
   "source": [
    "sex_age = pd.pivot_table(df, 'Survived', ['Sex', sets], 'Pclass')\n",
    "_ = sns.heatmap(sex_age, cmap=\"RdBu_r\", vmax=1, vmin=-1, annot=True,\n",
    "                              square=True, linewidths=.5, fmt='.2f')"
   ]
  },
  {
   "cell_type": "markdown",
   "id": "16d6ae8a-a22d-444f-8de8-ac49628f3277",
   "metadata": {},
   "source": [
    "From the correlation above, we can conclude that **women** from the *first* and *second* categories had a chance of surviving almost **90%**\n",
    "With **men**, the group under the age of *18* with the first category retained the **best chance** of survival.\n",
    "On the other hand, the group of \n",
    "**adult men** did the worst, as did many in the *third category*."
   ]
  },
  {
   "cell_type": "markdown",
   "id": "c916576d-2584-42bc-8b36-86199bac94a0",
   "metadata": {},
   "source": [
    "I convert embarked string values to numbers for use in a chart."
   ]
  },
  {
   "cell_type": "code",
   "execution_count": 721,
   "id": "50d7138c-2a9c-4a97-815d-97d8eded5e15",
   "metadata": {},
   "outputs": [
    {
     "data": {
      "image/png": "[encoded data removed]",
      "text/plain": [
       "<Figure size 432x288 with 1 Axes>"
      ]
     },
     "metadata": {
      "needs_background": "light"
     },
     "output_type": "display_data"
    }
   ],
   "source": [
    "from sklearn.preprocessing import LabelEncoder  \n",
    "\n",
    "le = LabelEncoder()\n",
    "df['Sex'] = le.fit_transform(df['Sex'])\n",
    "df['Embarked'] = le.fit_transform(df['Embarked'])\n",
    "g = sns.barplot(x=df['Embarked'], y=df['Survived'])\n",
    "g.set_xticklabels(['Southampton', 'Cherbourg', 'Queenstown'])\n",
    "g.set_title('Chance of survival by embarked')\n",
    "_ = g.set_xlabel('Port of Embarkation')"
   ]
  },
  {
   "cell_type": "markdown",
   "id": "e2bfd832-5423-4700-a2dc-9f22d32a6655",
   "metadata": {},
   "source": [
    "Statistically, above **50%** of the people who embarked from **Southampton** survived."
   ]
  },
  {
   "cell_type": "code",
   "execution_count": 726,
   "id": "da005177-2144-49ff-a424-e198a783e906",
   "metadata": {},
   "outputs": [
    {
     "data": {
      "image/png": "[encoded data removed]",
      "text/plain": [
       "<Figure size 432x288 with 1 Axes>"
      ]
     },
     "metadata": {
      "needs_background": "light"
     },
     "output_type": "display_data"
    }
   ],
   "source": [
    "hist = df['Age'].hist(bins=15)\n",
    "hist.set_title('Distribution of the number of people in a particular age')\n",
    "hist.set_xlabel('Age')\n",
    "_ = hist.set_ylabel('Number of people')"
   ]
  },
  {
   "cell_type": "markdown",
   "id": "2b306cba-cb36-489a-86e4-0463e65e2fa9",
   "metadata": {},
   "source": [
    "## [Normalize Data] \n",
    "## Preparation of data for testing "
   ]
  },
  {
   "cell_type": "code",
   "execution_count": 891,
   "id": "447735ca-f2c4-4506-8cb1-dac849f37df9",
   "metadata": {},
   "outputs": [
    {
     "data": {
      "text/plain": [
       "PassengerId      0\n",
       "Pclass           0\n",
       "Name             0\n",
       "Sex              0\n",
       "Age             86\n",
       "SibSp            0\n",
       "Parch            0\n",
       "Ticket           0\n",
       "Fare             1\n",
       "Cabin          327\n",
       "Embarked         0\n",
       "dtype: int64"
      ]
     },
     "execution_count": 891,
     "metadata": {},
     "output_type": "execute_result"
    }
   ],
   "source": [
    "df_test = pd.read_csv('test.csv')\n",
    "check = pd.read_csv('my_submission.csv')\n",
    "df_test.isna().sum()"
   ]
  },
  {
   "cell_type": "code",
   "execution_count": 892,
   "id": "3d0bf27e-7c6a-4bd5-a17b-8b9fc6260616",
   "metadata": {},
   "outputs": [
    {
     "data": {
      "text/plain": [
       "Index(['Pclass', 'Sex', 'SibSp', 'Parch', 'Fare', 'Embarked'], dtype='object')"
      ]
     },
     "execution_count": 892,
     "metadata": {},
     "output_type": "execute_result"
    }
   ],
   "source": [
    "PassengerId = df_test['PassengerId']\n",
    "df_test = df_test.drop(['PassengerId', 'Name', 'Age', 'Ticket', 'Cabin'], axis=1)\n",
    "df_test.columns"
   ]
  },
  {
   "cell_type": "markdown",
   "id": "08a46e6e-bc46-4f11-ab87-33007c8bda79",
   "metadata": {},
   "source": [
    "I check if there are any **non-values** in the test data."
   ]
  },
  {
   "cell_type": "code",
   "execution_count": 656,
   "id": "9b817409-6804-41e5-a9e5-3d455f5619cf",
   "metadata": {},
   "outputs": [
    {
     "data": {
      "text/plain": [
       "Pclass      0\n",
       "Sex         0\n",
       "SibSp       0\n",
       "Parch       0\n",
       "Fare        1\n",
       "Embarked    0\n",
       "dtype: int64"
      ]
     },
     "execution_count": 656,
     "metadata": {},
     "output_type": "execute_result"
    }
   ],
   "source": [
    "df_test.isna().sum()"
   ]
  },
  {
   "cell_type": "code",
   "execution_count": 660,
   "id": "ead6d723-bf1c-4e4f-9717-3bdbf3059e28",
   "metadata": {},
   "outputs": [],
   "source": [
    "median = df_test['Fare'].median()\n",
    "df_test['Fare'] = df_test['Fare'].fillna(median)"
   ]
  },
  {
   "cell_type": "code",
   "execution_count": 662,
   "id": "7b60cedc-3902-4055-8a53-b82906f67abe",
   "metadata": {},
   "outputs": [
    {
     "data": {
      "text/plain": [
       "Pclass      0\n",
       "Sex         0\n",
       "SibSp       0\n",
       "Parch       0\n",
       "Fare        0\n",
       "Embarked    0\n",
       "dtype: int64"
      ]
     },
     "execution_count": 662,
     "metadata": {},
     "output_type": "execute_result"
    }
   ],
   "source": [
    "df_test.isna().sum()"
   ]
  },
  {
   "cell_type": "markdown",
   "id": "1158f67e-ac0f-49a7-b5b3-14c5288c39df",
   "metadata": {},
   "source": [
    "As before, we replace string names with numeric type."
   ]
  },
  {
   "cell_type": "code",
   "execution_count": 722,
   "id": "e64cca4c-9dbc-4b9d-9241-788aa7c53716",
   "metadata": {},
   "outputs": [],
   "source": [
    "df_test['Sex'] = le.fit_transform(df_test['Sex'])\n",
    "df_test['Embarked'] = le.fit_transform(df_test['Embarked'])"
   ]
  },
  {
   "cell_type": "code",
   "execution_count": 737,
   "id": "b9124bbc-e2d6-45c0-87c9-c6ae9ba93ed0",
   "metadata": {},
   "outputs": [],
   "source": [
    "X_test = df_test\n",
    "y_test = check['Survived']"
   ]
  },
  {
   "cell_type": "markdown",
   "id": "1081d4fc-9e4d-43ac-a428-8f5a586cd17b",
   "metadata": {},
   "source": [
    "## Preparation of data for training"
   ]
  },
  {
   "cell_type": "code",
   "execution_count": 634,
   "id": "e1f8e485-d018-4e12-ad06-fc023fb797fb",
   "metadata": {},
   "outputs": [],
   "source": [
    "X_train = df.iloc[:,2:].drop(['Age'], axis=1)\n",
    "y_train = df.iloc[:,1]"
   ]
  },
  {
   "cell_type": "code",
   "execution_count": 719,
   "id": "421c4120-4a39-41a0-9e1d-c4e7917f0128",
   "metadata": {},
   "outputs": [
    {
     "name": "stdout",
     "output_type": "stream",
     "text": [
      "Traning data rows=889, columns=6 \n",
      "   Test data rows=418, columns=6\n"
     ]
    }
   ],
   "source": [
    "print(f\"{'Traning'} {'data rows=':}{'{}, columns={}'.format(*X_train.shape)}\",\n",
    "         f\"\\n{'Test':>7} {'data rows='}{'{}, columns={}'.format(*X_test.shape)}\")"
   ]
  },
  {
   "cell_type": "markdown",
   "id": "a4b9ae6c-fc97-4ded-bced-e0fdc0caed43",
   "metadata": {},
   "source": [
    "### When we have the test variables ready, we can start modeling."
   ]
  },
  {
   "cell_type": "code",
   "execution_count": 869,
   "id": "25317db3-b550-4fb6-856b-6fc7729e1367",
   "metadata": {},
   "outputs": [],
   "source": [
    "models = {}"
   ]
  },
  {
   "cell_type": "markdown",
   "id": "f70a57db-5d98-466c-ace2-d4ae7f9afd28",
   "metadata": {},
   "source": [
    "## Logistic Regression"
   ]
  },
  {
   "cell_type": "code",
   "execution_count": 872,
   "id": "94f9da39-80a1-4a58-84c6-a10ed06d40b1",
   "metadata": {
    "tags": []
   },
   "outputs": [
    {
     "data": {
      "text/plain": [
       "0.9497607655502392"
      ]
     },
     "execution_count": 872,
     "metadata": {},
     "output_type": "execute_result"
    }
   ],
   "source": [
    "from sklearn.linear_model import LogisticRegression\n",
    "logistic_regression = LogisticRegression()\n",
    "logistic_regression = logistic_regression.fit(X_train, y_train)\n",
    "score = logistic_regression.score(X_test, y_test)\n",
    "models[\"logistic_regression\"] = score\n",
    "score"
   ]
  },
  {
   "cell_type": "code",
   "execution_count": 867,
   "id": "8afefd62-523b-40d1-b1f7-0004c4ef94f7",
   "metadata": {
    "tags": []
   },
   "outputs": [
    {
     "data": {
      "image/png": "[encoded data removed]",
      "text/plain": [
       "<Figure size 432x288 with 1 Axes>"
      ]
     },
     "metadata": {},
     "output_type": "display_data"
    }
   ],
   "source": [
    "fig, ax = plt.subplots(figsize=(6, 4))\n",
    "lc3_viz = LearningCurve(LogisticRegression(), cv=10)\n",
    "lc3_viz.fit(X_train, y_train)\n",
    "_ = lc3_viz.poof()"
   ]
  },
  {
   "cell_type": "markdown",
   "id": "32960f15-de93-4b60-9503-d2c2783f5787",
   "metadata": {},
   "source": [
    "The learning curve shows us the level of learning the algorithm depending on experience."
   ]
  },
  {
   "cell_type": "markdown",
   "id": "a1c1a625-69e2-41fd-b45b-82a14d0d6aa9",
   "metadata": {},
   "source": [
    "Learning curve can be used for diagnose if model is underfit, overfit or well-fit model."
   ]
  },
  {
   "cell_type": "markdown",
   "id": "b83a6f79-9f1b-417c-b6c4-cbe3e25ed5c5",
   "metadata": {
    "tags": []
   },
   "source": [
    "Traning Score gives us information on how well the model learns"
   ]
  },
  {
   "cell_type": "markdown",
   "id": "5a871201-2062-40c5-8e0f-942849413d58",
   "metadata": {},
   "source": [
    "Cross Validation Score get us a proper estimate of the generalization"
   ]
  },
  {
   "cell_type": "markdown",
   "id": "001fbc2d-7142-404d-92b7-70febec7c328",
   "metadata": {},
   "source": [
    "A plot of learning curves shows underfitting if validation line stays flat or decrease "
   ]
  },
  {
   "cell_type": "markdown",
   "id": "4d0a371f-0845-4cd3-aaec-3a5394b87e6e",
   "metadata": {},
   "source": [
    "**Classification True vs False and Positive vs Negative**"
   ]
  },
  {
   "cell_type": "code",
   "execution_count": 878,
   "id": "c9e0afb6-1748-42e0-a9be-97200bb8e624",
   "metadata": {},
   "outputs": [],
   "source": [
    "import matplotlib.pyplot as plt\n",
    "\n",
    "def c_matrix(matrix, title):\n",
    "    fig, ax = plt.subplots(1,1)\n",
    "    im1 = plt.imshow(matrix, cmap='Greens')\n",
    "    fig.colorbar(im1)\n",
    "\n",
    "    for i in range(2):\n",
    "        for j in range(2):\n",
    "            text = ax.text(j, i,matrix[i, j],\n",
    "                           ha=\"center\", va=\"center\", color=\"black\")\n",
    "\n",
    "    plt.xticks([])\n",
    "    plt.yticks([])\n",
    "    plt.xlabel('Predicted Class')\n",
    "    plt.ylabel('True Class')\n",
    "    plt.title(f'Confusion Matrix\\n{title}')\n",
    "    plt.show()"
   ]
  },
  {
   "cell_type": "code",
   "execution_count": 879,
   "id": "11e15da9-e46e-44d4-99ef-384812d9e992",
   "metadata": {},
   "outputs": [
    {
     "data": {
      "image/png": "[encoded data removed]",
      "text/plain": [
       "<Figure size 576x396 with 2 Axes>"
      ]
     },
     "metadata": {},
     "output_type": "display_data"
    }
   ],
   "source": [
    "from sklearn.metrics import confusion_matrix\n",
    "\n",
    "y_pred = logistic_regression.predict(X_test)\n",
    "matrix = confusion_matrix(y_test, y_pred)\n",
    "c_matrix(matrix, \"LogisticRegression\")"
   ]
  },
  {
   "cell_type": "markdown",
   "id": "8af1530e-dab0-4d65-ab3e-5fa6c1bb7559",
   "metadata": {},
   "source": [
    "## Random Forest Classifier"
   ]
  },
  {
   "cell_type": "code",
   "execution_count": 871,
   "id": "11b95f67-d63b-458c-abab-acafc7c2c975",
   "metadata": {},
   "outputs": [
    {
     "data": {
      "text/plain": [
       "0.8708133971291866"
      ]
     },
     "execution_count": 871,
     "metadata": {},
     "output_type": "execute_result"
    }
   ],
   "source": [
    "from sklearn.ensemble import RandomForestClassifier\n",
    "\n",
    "random_forest = RandomForestClassifier(n_estimators=100, random_state=42)\n",
    "random_forest = random_forest.fit(X_train, y_train)\n",
    "score = random_forest.score(X_test, y_test)\n",
    "models[\"random_forest\"] = score\n",
    "score"
   ]
  },
  {
   "cell_type": "code",
   "execution_count": 868,
   "id": "a4eecc41-91ca-4762-81ea-aec47021320e",
   "metadata": {},
   "outputs": [
    {
     "data": {
      "image/png": "[encoded data removed]",
      "text/plain": [
       "<Figure size 432x288 with 1 Axes>"
      ]
     },
     "metadata": {},
     "output_type": "display_data"
    }
   ],
   "source": [
    "from yellowbrick.model_selection import LearningCurve\n",
    "fig, ax = plt.subplots(figsize=(6, 4))\n",
    "lc3_viz = LearningCurve( RandomForestClassifier(n_estimators=100, random_state=42), cv=10)\n",
    "lc3_viz.fit(X_train, y_train)\n",
    "_ = lc3_viz.poof()"
   ]
  },
  {
   "cell_type": "code",
   "execution_count": 791,
   "id": "04f99315-9207-47ec-80fc-f8910a274d3a",
   "metadata": {},
   "outputs": [
    {
     "data": {
      "image/png": "[encoded data removed]",
      "text/plain": [
       "<Figure size 432x288 with 1 Axes>"
      ]
     },
     "metadata": {
      "needs_background": "light"
     },
     "output_type": "display_data"
    }
   ],
   "source": [
    "import matplotlib.pyplot as plt\n",
    "data = random_forest.feature_importances_\n",
    "column_names = X_train.columns.values\n",
    "df1 = pd.DataFrame(index=column_names, data=data, columns=[\"feature importance\"])\n",
    "df1.plot(kind='bar')\n",
    "plt.xlabel(\"Feature\")\n",
    "plt.ylabel('indicator')\n",
    "plt.title('which features are relevant')\n",
    "plt.show()"
   ]
  },
  {
   "cell_type": "markdown",
   "id": "b8972ac0-0e1a-4046-b085-3fcb0c9101b7",
   "metadata": {},
   "source": [
    "We want the greatest possible values to be diagonally and the rest as small as possible."
   ]
  },
  {
   "cell_type": "code",
   "execution_count": 836,
   "id": "03cac4b5-f16d-4109-854a-9d14ea912863",
   "metadata": {},
   "outputs": [
    {
     "data": {
      "image/png": "[encoded data removed]",
      "text/plain": [
       "<Figure size 432x288 with 2 Axes>"
      ]
     },
     "metadata": {
      "needs_background": "light"
     },
     "output_type": "display_data"
    }
   ],
   "source": [
    "y_pred = random_forest.predict(X_test)\n",
    "matrix = confusion_matrix(y_test, y_pred)\n",
    "c_matrix(matrix, \"Random Forest Classifier\")"
   ]
  },
  {
   "cell_type": "markdown",
   "id": "f91bec40-af62-4962-a354-7d295308d82d",
   "metadata": {},
   "source": [
    "## Decision Tree Classifier"
   ]
  },
  {
   "cell_type": "code",
   "execution_count": 873,
   "id": "cdf3217d-b205-4d15-9447-e588c51ab5e5",
   "metadata": {},
   "outputs": [
    {
     "data": {
      "text/plain": [
       "0.9258373205741627"
      ]
     },
     "execution_count": 873,
     "metadata": {},
     "output_type": "execute_result"
    }
   ],
   "source": [
    "from sklearn.tree import DecisionTreeClassifier\n",
    "\n",
    "decision_tree = DecisionTreeClassifier(random_state=42, max_depth=5)\n",
    "decision_tree =decision_tree.fit(X_train, y_train)\n",
    "score = decision_tree.score(X_test, y_test)\n",
    "models[\"decision_tree\"] = score\n",
    "score"
   ]
  },
  {
   "cell_type": "code",
   "execution_count": 865,
   "id": "38fb8a2b-58f1-4827-9a10-50bdea937ec7",
   "metadata": {},
   "outputs": [
    {
     "data": {
      "image/png": "[encoded data removed]",
      "text/plain": [
       "<Figure size 432x288 with 1 Axes>"
      ]
     },
     "metadata": {},
     "output_type": "display_data"
    }
   ],
   "source": [
    "fig, ax = plt.subplots(figsize=(6, 4))\n",
    "lc3_viz = LearningCurve(DecisionTreeClassifier(random_state=42, max_depth=5), cv=10)\n",
    "lc3_viz.fit(X_train, y_train)\n",
    "_ = lc3_viz.poof()"
   ]
  },
  {
   "cell_type": "code",
   "execution_count": 841,
   "id": "1a144112-b573-4899-bcb2-cfc3751cc3e8",
   "metadata": {},
   "outputs": [
    {
     "data": {
      "image/png": "[encoded data removed]",
      "text/plain": [
       "<Figure size 432x288 with 2 Axes>"
      ]
     },
     "metadata": {
      "needs_background": "light"
     },
     "output_type": "display_data"
    }
   ],
   "source": [
    "y_pred = decision_tree.predict(X_test)\n",
    "matrix = confusion_matrix(y_test, y_pred)\n",
    "c_matrix(matrix, \"DecisionTreeClassifier\")"
   ]
  },
  {
   "cell_type": "markdown",
   "id": "4abb6559-7300-4e19-b82d-e453d6950954",
   "metadata": {},
   "source": [
    "## Support Vector Machine"
   ]
  },
  {
   "cell_type": "code",
   "execution_count": 874,
   "id": "dc41a0ba-275a-4ad1-b672-cf8818fbaba2",
   "metadata": {},
   "outputs": [
    {
     "data": {
      "text/plain": [
       "0.6650717703349283"
      ]
     },
     "execution_count": 874,
     "metadata": {},
     "output_type": "execute_result"
    }
   ],
   "source": [
    "from sklearn.svm import SVC\n",
    "svc = SVC(random_state=42, probability=True)\n",
    "svc = svc.fit(X_train, y_train)\n",
    "score = svc.score(X_test, y_test)\n",
    "models[\"svc\"] = score\n",
    "score"
   ]
  },
  {
   "cell_type": "code",
   "execution_count": 863,
   "id": "76f2df64-27fe-4abe-bb3d-b502e36a54ad",
   "metadata": {},
   "outputs": [
    {
     "data": {
      "image/png": "[encoded data removed]",
      "text/plain": [
       "<Figure size 432x288 with 1 Axes>"
      ]
     },
     "metadata": {},
     "output_type": "display_data"
    }
   ],
   "source": [
    "fig, ax = plt.subplots(figsize=(6, 4))\n",
    "lc3_viz = LearningCurve(SVC(random_state=42, probability=True), cv=10)\n",
    "lc3_viz.fit(X_train, y_train)\n",
    "_ = lc3_viz.poof()"
   ]
  },
  {
   "cell_type": "code",
   "execution_count": 847,
   "id": "69cbb14c-031c-4054-8c18-d016e918bbc6",
   "metadata": {},
   "outputs": [
    {
     "data": {
      "image/png": "[encoded data removed]",
      "text/plain": [
       "<Figure size 432x288 with 2 Axes>"
      ]
     },
     "metadata": {
      "needs_background": "light"
     },
     "output_type": "display_data"
    }
   ],
   "source": [
    "y_pred = svc.predict(X_test)\n",
    "matrix = confusion_matrix(y_test, y_pred)\n",
    "c_matrix(matrix, \"Support Vector Machine\")"
   ]
  },
  {
   "cell_type": "markdown",
   "id": "8385af61-eeba-41f9-b54d-34801d9f12aa",
   "metadata": {},
   "source": [
    "## K-Nearest Neighbor"
   ]
  },
  {
   "cell_type": "code",
   "execution_count": 875,
   "id": "55383e82-9550-4428-8356-4d381a91e8d9",
   "metadata": {},
   "outputs": [
    {
     "data": {
      "text/plain": [
       "0.7894736842105263"
      ]
     },
     "execution_count": 875,
     "metadata": {},
     "output_type": "execute_result"
    }
   ],
   "source": [
    "from sklearn.neighbors import KNeighborsClassifier\n",
    "k_neigth = KNeighborsClassifier()\n",
    "k_neigth = k_neigth.fit(X_train, y_train)\n",
    "score = k_neigth.score(X_test, y_test)\n",
    "models[\"k_neigth\"] = score\n",
    "score"
   ]
  },
  {
   "cell_type": "code",
   "execution_count": 864,
   "id": "fc59dd82-57d6-46e1-a20d-a076609b1cb2",
   "metadata": {},
   "outputs": [
    {
     "data": {
      "image/png": "[encoded data removed]",
      "text/plain": [
       "<Figure size 432x288 with 1 Axes>"
      ]
     },
     "metadata": {},
     "output_type": "display_data"
    }
   ],
   "source": [
    "fig, ax = plt.subplots(figsize=(6, 4))\n",
    "lc3_viz = LearningCurve(KNeighborsClassifier(), cv=10)\n",
    "lc3_viz.fit(X_train, y_train)\n",
    "_ = lc3_viz.poof()"
   ]
  },
  {
   "cell_type": "markdown",
   "id": "3dd5ab8c-b1d1-4c2a-ba10-f3193669d794",
   "metadata": {},
   "source": [
    "Despite the not very high score, it seems that with the increase of training data, the model learns faster and faster"
   ]
  },
  {
   "cell_type": "code",
   "execution_count": 849,
   "id": "673a6927-e008-4733-b6a9-fdfbfa4aa1dc",
   "metadata": {},
   "outputs": [
    {
     "data": {
      "image/png": "[encoded data removed]",
      "text/plain": [
       "<Figure size 432x288 with 2 Axes>"
      ]
     },
     "metadata": {
      "needs_background": "light"
     },
     "output_type": "display_data"
    }
   ],
   "source": [
    "y_pred = k_neigth.predict(X_test)\n",
    "matrix = confusion_matrix(y_test, y_pred)\n",
    "c_matrix(matrix, \"Support Vector Machine\")"
   ]
  },
  {
   "cell_type": "markdown",
   "id": "d33b7fda-6f73-4eb2-8d69-3adf06a3badb",
   "metadata": {},
   "source": [
    "# Summary"
   ]
  },
  {
   "cell_type": "code",
   "execution_count": 887,
   "id": "9391b94a-f9d9-4932-b74f-0ae96d2ddd99",
   "metadata": {},
   "outputs": [
    {
     "data": {
      "text/plain": [
       "{'logistic_regression': 0.9497607655502392,\n",
       " 'decision_tree': 0.9258373205741627,\n",
       " 'random_forest': 0.8708133971291866,\n",
       " 'k_neigth': 0.7894736842105263,\n",
       " 'svc': 0.6650717703349283}"
      ]
     },
     "execution_count": 887,
     "metadata": {},
     "output_type": "execute_result"
    }
   ],
   "source": [
    "dict(sorted(models.items(), key=lambda x: x[1], reverse=True))"
   ]
  },
  {
   "cell_type": "markdown",
   "id": "88b3143c-0ab0-4453-aa4a-5f384d01ee0f",
   "metadata": {},
   "source": [
    "Drawing the conclusion from my data, you can distinguish here the logistic regression that obtained the highest score"
   ]
  },
  {
   "cell_type": "code",
   "execution_count": 897,
   "id": "5c798858-daad-4783-bdd1-865896a49261",
   "metadata": {},
   "outputs": [],
   "source": [
    "y_pred = logistic_regression.predict(X_test)"
   ]
  },
  {
   "cell_type": "code",
   "execution_count": 901,
   "id": "27bebbf8-188b-4a60-9dcc-437b0a72dd11",
   "metadata": {},
   "outputs": [
    {
     "data": {
      "text/html": [
       "<div>\n",
       "<style scoped>\n",
       "    .dataframe tbody tr th:only-of-type {\n",
       "        vertical-align: middle;\n",
       "    }\n",
       "\n",
       "    .dataframe tbody tr th {\n",
       "        vertical-align: top;\n",
       "    }\n",
       "\n",
       "    .dataframe thead th {\n",
       "        text-align: right;\n",
       "    }\n",
       "</style>\n",
       "<table border=\"1\" class=\"dataframe\">\n",
       "  <thead>\n",
       "    <tr style=\"text-align: right;\">\n",
       "      <th></th>\n",
       "      <th>PassengerId</th>\n",
       "      <th>Survived</th>\n",
       "    </tr>\n",
       "  </thead>\n",
       "  <tbody>\n",
       "    <tr>\n",
       "      <th>0</th>\n",
       "      <td>892</td>\n",
       "      <td>0</td>\n",
       "    </tr>\n",
       "    <tr>\n",
       "      <th>1</th>\n",
       "      <td>893</td>\n",
       "      <td>1</td>\n",
       "    </tr>\n",
       "    <tr>\n",
       "      <th>2</th>\n",
       "      <td>894</td>\n",
       "      <td>0</td>\n",
       "    </tr>\n",
       "    <tr>\n",
       "      <th>3</th>\n",
       "      <td>895</td>\n",
       "      <td>0</td>\n",
       "    </tr>\n",
       "    <tr>\n",
       "      <th>4</th>\n",
       "      <td>896</td>\n",
       "      <td>1</td>\n",
       "    </tr>\n",
       "    <tr>\n",
       "      <th>...</th>\n",
       "      <td>...</td>\n",
       "      <td>...</td>\n",
       "    </tr>\n",
       "    <tr>\n",
       "      <th>413</th>\n",
       "      <td>1305</td>\n",
       "      <td>0</td>\n",
       "    </tr>\n",
       "    <tr>\n",
       "      <th>414</th>\n",
       "      <td>1306</td>\n",
       "      <td>1</td>\n",
       "    </tr>\n",
       "    <tr>\n",
       "      <th>415</th>\n",
       "      <td>1307</td>\n",
       "      <td>0</td>\n",
       "    </tr>\n",
       "    <tr>\n",
       "      <th>416</th>\n",
       "      <td>1308</td>\n",
       "      <td>0</td>\n",
       "    </tr>\n",
       "    <tr>\n",
       "      <th>417</th>\n",
       "      <td>1309</td>\n",
       "      <td>0</td>\n",
       "    </tr>\n",
       "  </tbody>\n",
       "</table>\n",
       "<p>418 rows × 2 columns</p>\n",
       "</div>"
      ],
      "text/plain": [
       "     PassengerId  Survived\n",
       "0            892         0\n",
       "1            893         1\n",
       "2            894         0\n",
       "3            895         0\n",
       "4            896         1\n",
       "..           ...       ...\n",
       "413         1305         0\n",
       "414         1306         1\n",
       "415         1307         0\n",
       "416         1308         0\n",
       "417         1309         0\n",
       "\n",
       "[418 rows x 2 columns]"
      ]
     },
     "execution_count": 901,
     "metadata": {},
     "output_type": "execute_result"
    }
   ],
   "source": [
    "submission = pd.DataFrame({\n",
    "    \"PassengerId\" : PassengerId.values,\n",
    "    \"Survived\" : y_pred\n",
    "})\n",
    "submission"
   ]
  },
  {
   "cell_type": "code",
   "execution_count": 902,
   "id": "4b510f10-11b5-4298-bb3f-cbfa681ad155",
   "metadata": {},
   "outputs": [],
   "source": [
    "submission.to_csv('submission.csv', index = False)"
   ]
  }
 ],
 "metadata": {
  "kernelspec": {
   "display_name": "Python 3",
   "language": "python",
   "name": "python3"
  },
  "language_info": {
   "codemirror_mode": {
    "name": "ipython",
    "version": 3
   },
   "file_extension": ".py",
   "mimetype": "text/x-python",
   "name": "python",
   "nbconvert_exporter": "python",
   "pygments_lexer": "ipython3",
   "version": "3.8.7"
  }
 },
 "nbformat": 4,
 "nbformat_minor": 5
}
